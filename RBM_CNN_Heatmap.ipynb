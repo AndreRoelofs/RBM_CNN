{
 "cells": [
  {
   "cell_type": "code",
   "execution_count": 1,
   "metadata": {},
   "outputs": [],
   "source": [
    "import numpy as np\n",
    "import matplotlib.pyplot as plt"
   ]
  },
  {
   "cell_type": "code",
   "execution_count": 96,
   "metadata": {},
   "outputs": [],
   "source": [
    "test_set = np.load(\"2_level_test_bins_10_cosine_large.npy\")\n",
    "train_set = np.load(\"2_level_train_bins_10_cosine_large.npy\")"
   ]
  },
  {
   "cell_type": "code",
   "execution_count": 111,
   "metadata": {},
   "outputs": [],
   "source": [
    "test_set_norm = test_set / np.sum(test_set)"
   ]
  },
  {
   "cell_type": "code",
   "execution_count": 112,
   "metadata": {},
   "outputs": [],
   "source": [
    "train_set_norm = train_set / np.sum(train_set)"
   ]
  },
  {
   "cell_type": "code",
   "execution_count": 113,
   "metadata": {},
   "outputs": [],
   "source": [
    "def heatmap(data, row_labels, col_labels, ax=None,\n",
    "            cbar_kw={}, cbarlabel=\"\", **kwargs):\n",
    "    \"\"\"\n",
    "    Create a heatmap from a numpy array and two lists of labels.\n",
    "\n",
    "    Parameters\n",
    "    ----------\n",
    "    data\n",
    "        A 2D numpy array of shape (N, M).\n",
    "    row_labels\n",
    "        A list or array of length N with the labels for the rows.\n",
    "    col_labels\n",
    "        A list or array of length M with the labels for the columns.\n",
    "    ax\n",
    "        A `matplotlib.axes.Axes` instance to which the heatmap is plotted.  If\n",
    "        not provided, use current axes or create a new one.  Optional.\n",
    "    cbar_kw\n",
    "        A dictionary with arguments to `matplotlib.Figure.colorbar`.  Optional.\n",
    "    cbarlabel\n",
    "        The label for the colorbar.  Optional.\n",
    "    **kwargs\n",
    "        All other arguments are forwarded to `imshow`.\n",
    "    \"\"\"\n",
    "\n",
    "    if not ax:\n",
    "        ax = plt.gca()\n",
    "\n",
    "    # Plot the heatmap\n",
    "    im = ax.imshow(data, **kwargs)\n",
    "\n",
    "    # Create colorbar\n",
    "    cbar = ax.figure.colorbar(im, ax=ax, **cbar_kw)\n",
    "    cbar.ax.set_ylabel(cbarlabel, rotation=-90, va=\"bottom\")\n",
    "\n",
    "    # We want to show all ticks...\n",
    "    ax.set_xticks(np.arange(data.shape[1]))\n",
    "    ax.set_yticks(np.arange(data.shape[0]))\n",
    "    # ... and label them with the respective list entries.\n",
    "    ax.set_xticklabels(col_labels)\n",
    "    ax.set_yticklabels(row_labels)\n",
    "\n",
    "    # Let the horizontal axes labeling appear on top.\n",
    "    ax.tick_params(top=True, bottom=False,\n",
    "                   labeltop=True, labelbottom=False)\n",
    "\n",
    "    # Rotate the tick labels and set their alignment.\n",
    "    plt.setp(ax.get_xticklabels(), rotation=-30, ha=\"right\",\n",
    "             rotation_mode=\"anchor\")\n",
    "\n",
    "    # Turn spines off and create white grid.\n",
    "    for edge, spine in ax.spines.items():\n",
    "        spine.set_visible(False)\n",
    "\n",
    "    ax.set_xticks(np.arange(data.shape[1]+1)-.5, minor=True)\n",
    "    ax.set_yticks(np.arange(data.shape[0]+1)-.5, minor=True)\n",
    "    ax.grid(which=\"minor\", color=\"w\", linestyle='-', linewidth=3)\n",
    "    ax.tick_params(which=\"minor\", bottom=False, left=False)\n",
    "\n",
    "    return im, cbar\n",
    "\n",
    "\n",
    "def annotate_heatmap(im, data=None, valfmt=\"{x:.2f}\",\n",
    "                     textcolors=[\"black\", \"white\"],\n",
    "                     threshold=None, **textkw):\n",
    "    \"\"\"\n",
    "    A function to annotate a heatmap.\n",
    "\n",
    "    Parameters\n",
    "    ----------\n",
    "    im\n",
    "        The AxesImage to be labeled.\n",
    "    data\n",
    "        Data used to annotate.  If None, the image's data is used.  Optional.\n",
    "    valfmt\n",
    "        The format of the annotations inside the heatmap.  This should either\n",
    "        use the string format method, e.g. \"$ {x:.2f}\", or be a\n",
    "        `matplotlib.ticker.Formatter`.  Optional.\n",
    "    textcolors\n",
    "        A list or array of two color specifications.  The first is used for\n",
    "        values below a threshold, the second for those above.  Optional.\n",
    "    threshold\n",
    "        Value in data units according to which the colors from textcolors are\n",
    "        applied.  If None (the default) uses the middle of the colormap as\n",
    "        separation.  Optional.\n",
    "    **kwargs\n",
    "        All other arguments are forwarded to each call to `text` used to create\n",
    "        the text labels.\n",
    "    \"\"\"\n",
    "\n",
    "    if not isinstance(data, (list, np.ndarray)):\n",
    "        data = im.get_array()\n",
    "\n",
    "    # Normalize the threshold to the images color range.\n",
    "    if threshold is not None:\n",
    "        threshold = im.norm(threshold)\n",
    "    else:\n",
    "        threshold = im.norm(data.max())/2.\n",
    "\n",
    "    # Set default alignment to center, but allow it to be\n",
    "    # overwritten by textkw.\n",
    "    kw = dict(horizontalalignment=\"center\",\n",
    "              verticalalignment=\"center\")\n",
    "    kw.update(textkw)\n",
    "\n",
    "    # Get the formatter in case a string is supplied\n",
    "    if isinstance(valfmt, str):\n",
    "        valfmt = matplotlib.ticker.StrMethodFormatter(valfmt)\n",
    "\n",
    "    # Loop over the data and create a `Text` for each \"pixel\".\n",
    "    # Change the text's color depending on the data.\n",
    "    texts = []\n",
    "    for i in range(data.shape[0]):\n",
    "        for j in range(data.shape[1]):\n",
    "            kw.update(color=textcolors[int(im.norm(data[i, j]) > threshold)])\n",
    "            text = im.axes.text(j, i, valfmt(data[i, j], None), **kw)\n",
    "            texts.append(text)\n",
    "\n",
    "    return texts"
   ]
  },
  {
   "cell_type": "code",
   "execution_count": 114,
   "metadata": {},
   "outputs": [],
   "source": [
    "classes = [\"0\",\"1\",\"2\",\"3\",\"4\",\"5\",\"6\",\"7\",\"8\",\"9\"]\n",
    "clusters = [\"\" + str(i) for i in range(len(test_set))]"
   ]
  },
  {
   "cell_type": "code",
   "execution_count": 115,
   "metadata": {},
   "outputs": [
    {
     "data": {
      "image/png": "[encoded data removed]",
      "text/plain": [
       "<Figure size 1200x800 with 2 Axes>"
      ]
     },
     "metadata": {},
     "output_type": "display_data"
    }
   ],
   "source": [
    "fig, ax = plt.subplots(figsize=(12,8), dpi= 100, facecolor='w', edgecolor='k')\n",
    "im, cbar = heatmap(train_set_norm,clusters,classes, ax=ax, cmap=\"RdYlBu\")\n",
    "fig.tight_layout()\n",
    "ax.set_title(\"Train Set\")\n",
    "plt.show()"
   ]
  },
  {
   "cell_type": "code",
   "execution_count": 116,
   "metadata": {},
   "outputs": [
    {
     "data": {
      "image/png": "[encoded data removed]",
      "text/plain": [
       "<Figure size 1200x800 with 2 Axes>"
      ]
     },
     "metadata": {},
     "output_type": "display_data"
    }
   ],
   "source": [
    "fig, ax = plt.subplots(figsize=(12,8), dpi= 100, facecolor='w', edgecolor='k')\n",
    "im, cbar = heatmap(test_set_norm,clusters,classes, ax=ax, cmap=\"RdYlBu\")\n",
    "fig.tight_layout()\n",
    "ax.set_title(\"Test Set\")\n",
    "plt.show()"
   ]
  },
  {
   "cell_type": "code",
   "execution_count": 117,
   "metadata": {},
   "outputs": [
    {
     "data": {
      "text/plain": [
       "array([[0.0142, 0.001 , 0.0126, 0.0046, 0.0079, 0.0001, 0.023 , 0.    ,\n",
       "        0.0079, 0.    ],\n",
       "       [0.0036, 0.0016, 0.0471, 0.0009, 0.0543, 0.    , 0.0323, 0.    ,\n",
       "        0.0018, 0.    ],\n",
       "       [0.0043, 0.0006, 0.0322, 0.0004, 0.0118, 0.    , 0.0123, 0.    ,\n",
       "        0.0082, 0.    ],\n",
       "       [0.0002, 0.    , 0.    , 0.    , 0.    , 0.0064, 0.    , 0.0201,\n",
       "        0.0162, 0.0946],\n",
       "       [0.0657, 0.0032, 0.0046, 0.0209, 0.0219, 0.    , 0.0234, 0.    ,\n",
       "        0.0019, 0.    ],\n",
       "       [0.0004, 0.0746, 0.    , 0.0276, 0.0001, 0.    , 0.0003, 0.    ,\n",
       "        0.0001, 0.    ],\n",
       "       [0.0007, 0.    , 0.0008, 0.0001, 0.0004, 0.    , 0.0013, 0.    ,\n",
       "        0.0566, 0.0001],\n",
       "       [0.0042, 0.001 , 0.0023, 0.003 , 0.0015, 0.0574, 0.0047, 0.0111,\n",
       "        0.0019, 0.0005],\n",
       "       [0.0005, 0.    , 0.0004, 0.0006, 0.0001, 0.0358, 0.0003, 0.0688,\n",
       "        0.0043, 0.0047],\n",
       "       [0.0062, 0.018 , 0.    , 0.0419, 0.002 , 0.0003, 0.0024, 0.    ,\n",
       "        0.0011, 0.0001]])"
      ]
     },
     "execution_count": 117,
     "metadata": {},
     "output_type": "execute_result"
    }
   ],
   "source": [
    "test_set_norm"
   ]
  },
  {
   "cell_type": "code",
   "execution_count": 118,
   "metadata": {},
   "outputs": [
    {
     "data": {
      "text/plain": [
       "array([[1.46666667e-02, 1.28333333e-03, 1.34333333e-02, 5.55000000e-03,\n",
       "        7.98333333e-03, 1.00000000e-04, 1.92000000e-02, 0.00000000e+00,\n",
       "        6.73333333e-03, 1.50000000e-04],\n",
       "       [4.03333333e-03, 9.16666667e-04, 4.81666667e-02, 1.75000000e-03,\n",
       "        5.56500000e-02, 0.00000000e+00, 3.66333333e-02, 0.00000000e+00,\n",
       "        1.70000000e-03, 1.66666667e-05],\n",
       "       [3.41666667e-03, 5.16666667e-04, 3.10833333e-02, 3.00000000e-04,\n",
       "        1.14000000e-02, 0.00000000e+00, 1.44833333e-02, 0.00000000e+00,\n",
       "        8.15000000e-03, 0.00000000e+00],\n",
       "       [2.33333333e-04, 0.00000000e+00, 0.00000000e+00, 3.33333333e-05,\n",
       "        0.00000000e+00, 8.43333333e-03, 8.33333333e-05, 2.05333333e-02,\n",
       "        1.78333333e-02, 9.58166667e-02],\n",
       "       [6.70500000e-02, 3.91666667e-03, 4.06666667e-03, 2.34166667e-02,\n",
       "        2.04500000e-02, 0.00000000e+00, 2.20500000e-02, 0.00000000e+00,\n",
       "        2.20000000e-03, 1.66666667e-04],\n",
       "       [8.83333333e-04, 7.01500000e-02, 1.00000000e-04, 2.33000000e-02,\n",
       "        1.50000000e-04, 3.33333333e-05, 2.83333333e-04, 0.00000000e+00,\n",
       "        3.66666667e-04, 1.66666667e-05],\n",
       "       [3.66666667e-04, 1.66666667e-05, 6.83333333e-04, 1.00000000e-04,\n",
       "        3.33333333e-04, 5.00000000e-05, 1.21666667e-03, 0.00000000e+00,\n",
       "        5.74500000e-02, 1.66666667e-05],\n",
       "       [2.93333333e-03, 8.16666667e-04, 1.93333333e-03, 2.63333333e-03,\n",
       "        1.28333333e-03, 5.19333333e-02, 4.01666667e-03, 6.88333333e-03,\n",
       "        1.48333333e-03, 2.83333333e-04],\n",
       "       [9.33333333e-04, 1.66666667e-05, 3.83333333e-04, 1.83333333e-04,\n",
       "        1.83333333e-04, 3.93666667e-02, 5.00000000e-04, 7.25833333e-02,\n",
       "        2.85000000e-03, 3.23333333e-03],\n",
       "       [5.48333333e-03, 2.23666667e-02, 1.50000000e-04, 4.27333333e-02,\n",
       "        2.56666667e-03, 8.33333333e-05, 1.53333333e-03, 0.00000000e+00,\n",
       "        1.23333333e-03, 3.00000000e-04]])"
      ]
     },
     "execution_count": 118,
     "metadata": {},
     "output_type": "execute_result"
    }
   ],
   "source": [
    "train_set_norm"
   ]
  },
  {
   "cell_type": "code",
   "execution_count": 119,
   "metadata": {},
   "outputs": [
    {
     "data": {
      "text/plain": [
       "60000.0"
      ]
     },
     "execution_count": 119,
     "metadata": {},
     "output_type": "execute_result"
    }
   ],
   "source": [
    "np.sum(train_set)"
   ]
  },
  {
   "cell_type": "code",
   "execution_count": 120,
   "metadata": {},
   "outputs": [
    {
     "data": {
      "text/plain": [
       "10000.0"
      ]
     },
     "execution_count": 120,
     "metadata": {},
     "output_type": "execute_result"
    }
   ],
   "source": [
    "np.sum(test_set)"
   ]
  },
  {
   "cell_type": "code",
   "execution_count": 121,
   "metadata": {},
   "outputs": [],
   "source": [
    "from scipy.stats import wasserstein_distance"
   ]
  },
  {
   "cell_type": "code",
   "execution_count": 122,
   "metadata": {},
   "outputs": [],
   "source": [
    "test_set_single = test_set\n",
    "train_set_single = train_set"
   ]
  },
  {
   "cell_type": "code",
   "execution_count": 123,
   "metadata": {},
   "outputs": [],
   "source": [
    "test_set_single=test_set_single.reshape(test_set_single.size)\n",
    "train_set_single=train_set_single.reshape(train_set_single.size)"
   ]
  },
  {
   "cell_type": "code",
   "execution_count": 124,
   "metadata": {},
   "outputs": [
    {
     "data": {
      "text/plain": [
       "499.99999999999994"
      ]
     },
     "execution_count": 124,
     "metadata": {},
     "output_type": "execute_result"
    }
   ],
   "source": [
    "wasserstein_distance(train_set_single, test_set_single)"
   ]
  },
  {
   "cell_type": "code",
   "execution_count": 125,
   "metadata": {},
   "outputs": [
    {
     "data": {
      "text/plain": [
       "(100,)"
      ]
     },
     "execution_count": 125,
     "metadata": {},
     "output_type": "execute_result"
    }
   ],
   "source": [
    "train_set_single.shape"
   ]
  },
  {
   "cell_type": "code",
   "execution_count": null,
   "metadata": {},
   "outputs": [],
   "source": []
  }
 ],
 "metadata": {
  "kernelspec": {
   "display_name": "Python 3",
   "language": "python",
   "name": "python3"
  },
  "language_info": {
   "codemirror_mode": {
    "name": "ipython",
    "version": 3
   },
   "file_extension": ".py",
   "mimetype": "text/x-python",
   "name": "python",
   "nbconvert_exporter": "python",
   "pygments_lexer": "ipython3",
   "version": "3.8.5"
  }
 },
 "nbformat": 4,
 "nbformat_minor": 4
}
